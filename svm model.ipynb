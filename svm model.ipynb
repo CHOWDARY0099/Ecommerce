{
 "cells": [
  {
   "cell_type": "code",
   "execution_count": 1,
   "id": "14b6434f",
   "metadata": {},
   "outputs": [],
   "source": [
    "import pandas as pd\n",
    "from pickle import dump\n",
    "from pickle import load\n",
    "from sklearn.svm import SVR\n",
    "from sklearn.model_selection import train_test_split\n",
    "from sklearn import metrics"
   ]
  },
  {
   "cell_type": "code",
   "execution_count": 2,
   "id": "ee75d960",
   "metadata": {},
   "outputs": [],
   "source": [
    "data=pd.read_csv(\"Ecommerce.csv\")"
   ]
  },
  {
   "cell_type": "code",
   "execution_count": 3,
   "id": "3f902aaf",
   "metadata": {},
   "outputs": [
    {
     "data": {
      "text/html": [
       "<div>\n",
       "<style scoped>\n",
       "    .dataframe tbody tr th:only-of-type {\n",
       "        vertical-align: middle;\n",
       "    }\n",
       "\n",
       "    .dataframe tbody tr th {\n",
       "        vertical-align: top;\n",
       "    }\n",
       "\n",
       "    .dataframe thead th {\n",
       "        text-align: right;\n",
       "    }\n",
       "</style>\n",
       "<table border=\"1\" class=\"dataframe\">\n",
       "  <thead>\n",
       "    <tr style=\"text-align: right;\">\n",
       "      <th></th>\n",
       "      <th>Customer ID</th>\n",
       "      <th>Avg Session length</th>\n",
       "      <th>Time on App</th>\n",
       "      <th>Time on Website</th>\n",
       "      <th>Length of MemberShip</th>\n",
       "      <th>Yealy amount spent</th>\n",
       "    </tr>\n",
       "  </thead>\n",
       "  <tbody>\n",
       "    <tr>\n",
       "      <th>0</th>\n",
       "      <td>1</td>\n",
       "      <td>32.538350</td>\n",
       "      <td>12.028846</td>\n",
       "      <td>35.850540</td>\n",
       "      <td>3.648854</td>\n",
       "      <td>576.098273</td>\n",
       "    </tr>\n",
       "    <tr>\n",
       "      <th>1</th>\n",
       "      <td>2</td>\n",
       "      <td>34.206718</td>\n",
       "      <td>12.226851</td>\n",
       "      <td>37.246443</td>\n",
       "      <td>1.987536</td>\n",
       "      <td>460.784955</td>\n",
       "    </tr>\n",
       "    <tr>\n",
       "      <th>2</th>\n",
       "      <td>3</td>\n",
       "      <td>31.535240</td>\n",
       "      <td>11.814341</td>\n",
       "      <td>36.610697</td>\n",
       "      <td>3.351191</td>\n",
       "      <td>349.739791</td>\n",
       "    </tr>\n",
       "    <tr>\n",
       "      <th>3</th>\n",
       "      <td>4</td>\n",
       "      <td>32.199577</td>\n",
       "      <td>11.295163</td>\n",
       "      <td>37.425695</td>\n",
       "      <td>5.234337</td>\n",
       "      <td>547.709921</td>\n",
       "    </tr>\n",
       "    <tr>\n",
       "      <th>4</th>\n",
       "      <td>5</td>\n",
       "      <td>33.570137</td>\n",
       "      <td>13.500972</td>\n",
       "      <td>36.856165</td>\n",
       "      <td>3.938603</td>\n",
       "      <td>487.055641</td>\n",
       "    </tr>\n",
       "  </tbody>\n",
       "</table>\n",
       "</div>"
      ],
      "text/plain": [
       "   Customer ID  Avg Session length  Time on App  Time on Website  \\\n",
       "0            1           32.538350    12.028846        35.850540   \n",
       "1            2           34.206718    12.226851        37.246443   \n",
       "2            3           31.535240    11.814341        36.610697   \n",
       "3            4           32.199577    11.295163        37.425695   \n",
       "4            5           33.570137    13.500972        36.856165   \n",
       "\n",
       "   Length of MemberShip  Yealy amount spent  \n",
       "0              3.648854          576.098273  \n",
       "1              1.987536          460.784955  \n",
       "2              3.351191          349.739791  \n",
       "3              5.234337          547.709921  \n",
       "4              3.938603          487.055641  "
      ]
     },
     "execution_count": 3,
     "metadata": {},
     "output_type": "execute_result"
    }
   ],
   "source": [
    "data.head()"
   ]
  },
  {
   "cell_type": "code",
   "execution_count": 4,
   "id": "0b3d86fc",
   "metadata": {},
   "outputs": [],
   "source": [
    "data_cleaned=data.drop(\"Customer ID\",axis=1)"
   ]
  },
  {
   "cell_type": "code",
   "execution_count": 19,
   "id": "a7585945",
   "metadata": {},
   "outputs": [],
   "source": [
    "x=data_cleaned.iloc[:,:-1]\n",
    "y=data_cleaned.iloc[:,-1]\n",
    "x_train,x_test,y_train,y_test=train_test_split(x,y,test_size=0.2,random_state=20)"
   ]
  },
  {
   "cell_type": "code",
   "execution_count": 20,
   "id": "7c3b526c",
   "metadata": {},
   "outputs": [
    {
     "data": {
      "text/plain": [
       "SVR()"
      ]
     },
     "execution_count": 20,
     "metadata": {},
     "output_type": "execute_result"
    }
   ],
   "source": [
    "modelsvm= SVR()\n",
    "modelsvm.fit(x_train,y_train)"
   ]
  },
  {
   "cell_type": "code",
   "execution_count": 21,
   "id": "75f9255d",
   "metadata": {},
   "outputs": [],
   "source": [
    "predy=modelsvm.predict(x_test)"
   ]
  },
  {
   "cell_type": "code",
   "execution_count": 22,
   "id": "b2b7c125",
   "metadata": {},
   "outputs": [],
   "source": [
    "dump(modelsvm, open('svm_model.sav','wb'))"
   ]
  },
  {
   "cell_type": "code",
   "execution_count": 23,
   "id": "8206b898",
   "metadata": {},
   "outputs": [
    {
     "name": "stdout",
     "output_type": "stream",
     "text": [
      "0.12888708554369133\n"
     ]
    }
   ],
   "source": [
    "loaded_model=load(open('svm_model.sav','rb'))\n",
    "result=metrics.mean_absolute_percentage_error(predy,y_test)\n",
    "print(result)"
   ]
  },
  {
   "cell_type": "code",
   "execution_count": null,
   "id": "f72b77f6",
   "metadata": {},
   "outputs": [],
   "source": []
  }
 ],
 "metadata": {
  "kernelspec": {
   "display_name": "Python 3",
   "language": "python",
   "name": "python3"
  },
  "language_info": {
   "codemirror_mode": {
    "name": "ipython",
    "version": 3
   },
   "file_extension": ".py",
   "mimetype": "text/x-python",
   "name": "python",
   "nbconvert_exporter": "python",
   "pygments_lexer": "ipython3",
   "version": "3.8.8"
  }
 },
 "nbformat": 4,
 "nbformat_minor": 5
}
