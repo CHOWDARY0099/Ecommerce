{
 "cells": [
  {
   "cell_type": "code",
   "execution_count": 1,
   "id": "46a9f727",
   "metadata": {},
   "outputs": [],
   "source": [
    "import pandas as pd\n",
    "import numpy as np\n",
    "import matplotlib.pyplot as plt\n",
    "import seaborn as sns\n",
    "import warnings\n",
    "warnings.filterwarnings(\"ignore\")"
   ]
  },
  {
   "cell_type": "code",
   "execution_count": 2,
   "id": "9a5eba71",
   "metadata": {},
   "outputs": [
    {
     "name": "stdout",
     "output_type": "stream",
     "text": [
      " Volume in drive C is Acer\n",
      " Volume Serial Number is 6CA3-2EE7\n",
      "\n",
      " Directory of C:\\Users\\gokul\\OneDrive\\Documents\\excelr\\project\\data\n",
      "\n",
      "12-04-2022  10:16 PM    <DIR>          .\n",
      "12-04-2022  10:16 PM    <DIR>          ..\n",
      "12-04-2022  02:06 PM    <DIR>          .ipynb_checkpoints\n",
      "11-04-2022  07:29 PM            14,987 deployment.ipynb\n",
      "16-03-2022  09:48 PM            14,850 Ecommerce project.docx\n",
      "12-04-2022  02:05 PM         1,336,156 ecommerce updated.pptx\n",
      "16-03-2022  09:48 PM            40,116 Ecommerce.csv\n",
      "03-04-2022  09:27 PM           861,685 ecommerce.pptx\n",
      "07-04-2022  12:57 PM         1,195,159 log transformation.ipynb\n",
      "12-04-2022  10:16 PM            21,368 outlier tratment.ipynb\n",
      "11-04-2022  06:58 PM         2,333,140 project.ipynb\n",
      "07-04-2022  02:00 PM         1,063,114 reciprocal transformation.ipynb\n",
      "03-04-2022  09:02 PM    <DIR>          scs\n",
      "07-04-2022  01:47 PM         1,227,962 sqrt transformation.ipynb\n",
      "              10 File(s)      8,108,537 bytes\n",
      "               4 Dir(s)  125,252,014,080 bytes free\n"
     ]
    }
   ],
   "source": [
    "ls"
   ]
  },
  {
   "cell_type": "code",
   "execution_count": 3,
   "id": "6e36a937",
   "metadata": {},
   "outputs": [],
   "source": [
    "data=pd.read_csv(\"Ecommerce.csv\")"
   ]
  },
  {
   "cell_type": "code",
   "execution_count": 4,
   "id": "fb91f8de",
   "metadata": {},
   "outputs": [],
   "source": [
    "datanew=data.copy()"
   ]
  },
  {
   "cell_type": "code",
   "execution_count": 20,
   "id": "68672d3f",
   "metadata": {},
   "outputs": [
    {
     "data": {
      "text/html": [
       "<div>\n",
       "<style scoped>\n",
       "    .dataframe tbody tr th:only-of-type {\n",
       "        vertical-align: middle;\n",
       "    }\n",
       "\n",
       "    .dataframe tbody tr th {\n",
       "        vertical-align: top;\n",
       "    }\n",
       "\n",
       "    .dataframe thead th {\n",
       "        text-align: right;\n",
       "    }\n",
       "</style>\n",
       "<table border=\"1\" class=\"dataframe\">\n",
       "  <thead>\n",
       "    <tr style=\"text-align: right;\">\n",
       "      <th></th>\n",
       "      <th>Avg Session length</th>\n",
       "      <th>Time on App</th>\n",
       "      <th>Time on Website</th>\n",
       "      <th>Length of MemberShip</th>\n",
       "      <th>Yealy amount spent</th>\n",
       "    </tr>\n",
       "  </thead>\n",
       "  <tbody>\n",
       "    <tr>\n",
       "      <th>0</th>\n",
       "      <td>32.538350</td>\n",
       "      <td>12.028846</td>\n",
       "      <td>35.850540</td>\n",
       "      <td>3.648854</td>\n",
       "      <td>576.098273</td>\n",
       "    </tr>\n",
       "    <tr>\n",
       "      <th>1</th>\n",
       "      <td>34.206718</td>\n",
       "      <td>12.226851</td>\n",
       "      <td>37.246443</td>\n",
       "      <td>1.987536</td>\n",
       "      <td>460.784955</td>\n",
       "    </tr>\n",
       "    <tr>\n",
       "      <th>2</th>\n",
       "      <td>31.535240</td>\n",
       "      <td>11.814341</td>\n",
       "      <td>36.610697</td>\n",
       "      <td>3.351191</td>\n",
       "      <td>349.739791</td>\n",
       "    </tr>\n",
       "    <tr>\n",
       "      <th>3</th>\n",
       "      <td>32.199577</td>\n",
       "      <td>11.295163</td>\n",
       "      <td>37.425695</td>\n",
       "      <td>5.234337</td>\n",
       "      <td>547.709921</td>\n",
       "    </tr>\n",
       "    <tr>\n",
       "      <th>4</th>\n",
       "      <td>33.570137</td>\n",
       "      <td>13.500972</td>\n",
       "      <td>36.856165</td>\n",
       "      <td>3.938603</td>\n",
       "      <td>487.055641</td>\n",
       "    </tr>\n",
       "    <tr>\n",
       "      <th>...</th>\n",
       "      <td>...</td>\n",
       "      <td>...</td>\n",
       "      <td>...</td>\n",
       "      <td>...</td>\n",
       "      <td>...</td>\n",
       "    </tr>\n",
       "    <tr>\n",
       "      <th>618</th>\n",
       "      <td>31.941434</td>\n",
       "      <td>11.158640</td>\n",
       "      <td>36.846959</td>\n",
       "      <td>3.219605</td>\n",
       "      <td>559.546775</td>\n",
       "    </tr>\n",
       "    <tr>\n",
       "      <th>619</th>\n",
       "      <td>33.446133</td>\n",
       "      <td>12.374820</td>\n",
       "      <td>37.592235</td>\n",
       "      <td>4.917733</td>\n",
       "      <td>515.186966</td>\n",
       "    </tr>\n",
       "    <tr>\n",
       "      <th>620</th>\n",
       "      <td>32.967749</td>\n",
       "      <td>11.392061</td>\n",
       "      <td>36.916664</td>\n",
       "      <td>2.955718</td>\n",
       "      <td>601.715746</td>\n",
       "    </tr>\n",
       "    <tr>\n",
       "      <th>621</th>\n",
       "      <td>33.469949</td>\n",
       "      <td>11.930872</td>\n",
       "      <td>37.744155</td>\n",
       "      <td>4.577850</td>\n",
       "      <td>477.741395</td>\n",
       "    </tr>\n",
       "    <tr>\n",
       "      <th>622</th>\n",
       "      <td>33.443393</td>\n",
       "      <td>12.978933</td>\n",
       "      <td>37.311979</td>\n",
       "      <td>3.575459</td>\n",
       "      <td>390.149419</td>\n",
       "    </tr>\n",
       "  </tbody>\n",
       "</table>\n",
       "<p>623 rows × 5 columns</p>\n",
       "</div>"
      ],
      "text/plain": [
       "     Avg Session length  Time on App  Time on Website  Length of MemberShip  \\\n",
       "0             32.538350    12.028846        35.850540              3.648854   \n",
       "1             34.206718    12.226851        37.246443              1.987536   \n",
       "2             31.535240    11.814341        36.610697              3.351191   \n",
       "3             32.199577    11.295163        37.425695              5.234337   \n",
       "4             33.570137    13.500972        36.856165              3.938603   \n",
       "..                  ...          ...              ...                   ...   \n",
       "618           31.941434    11.158640        36.846959              3.219605   \n",
       "619           33.446133    12.374820        37.592235              4.917733   \n",
       "620           32.967749    11.392061        36.916664              2.955718   \n",
       "621           33.469949    11.930872        37.744155              4.577850   \n",
       "622           33.443393    12.978933        37.311979              3.575459   \n",
       "\n",
       "     Yealy amount spent  \n",
       "0            576.098273  \n",
       "1            460.784955  \n",
       "2            349.739791  \n",
       "3            547.709921  \n",
       "4            487.055641  \n",
       "..                  ...  \n",
       "618          559.546775  \n",
       "619          515.186966  \n",
       "620          601.715746  \n",
       "621          477.741395  \n",
       "622          390.149419  \n",
       "\n",
       "[623 rows x 5 columns]"
      ]
     },
     "execution_count": 20,
     "metadata": {},
     "output_type": "execute_result"
    }
   ],
   "source": [
    "datanew"
   ]
  },
  {
   "cell_type": "code",
   "execution_count": 6,
   "id": "248ff73a",
   "metadata": {},
   "outputs": [],
   "source": [
    "datanew=data.drop(\"Customer ID\",axis=1)"
   ]
  },
  {
   "cell_type": "code",
   "execution_count": 7,
   "id": "118e33cb",
   "metadata": {},
   "outputs": [
    {
     "data": {
      "text/html": [
       "<div>\n",
       "<style scoped>\n",
       "    .dataframe tbody tr th:only-of-type {\n",
       "        vertical-align: middle;\n",
       "    }\n",
       "\n",
       "    .dataframe tbody tr th {\n",
       "        vertical-align: top;\n",
       "    }\n",
       "\n",
       "    .dataframe thead th {\n",
       "        text-align: right;\n",
       "    }\n",
       "</style>\n",
       "<table border=\"1\" class=\"dataframe\">\n",
       "  <thead>\n",
       "    <tr style=\"text-align: right;\">\n",
       "      <th></th>\n",
       "      <th>Avg Session length</th>\n",
       "      <th>Time on App</th>\n",
       "      <th>Time on Website</th>\n",
       "      <th>Length of MemberShip</th>\n",
       "      <th>Yealy amount spent</th>\n",
       "    </tr>\n",
       "  </thead>\n",
       "  <tbody>\n",
       "    <tr>\n",
       "      <th>0</th>\n",
       "      <td>32.538350</td>\n",
       "      <td>12.028846</td>\n",
       "      <td>35.850540</td>\n",
       "      <td>3.648854</td>\n",
       "      <td>576.098273</td>\n",
       "    </tr>\n",
       "    <tr>\n",
       "      <th>1</th>\n",
       "      <td>34.206718</td>\n",
       "      <td>12.226851</td>\n",
       "      <td>37.246443</td>\n",
       "      <td>1.987536</td>\n",
       "      <td>460.784955</td>\n",
       "    </tr>\n",
       "    <tr>\n",
       "      <th>2</th>\n",
       "      <td>31.535240</td>\n",
       "      <td>11.814341</td>\n",
       "      <td>36.610697</td>\n",
       "      <td>3.351191</td>\n",
       "      <td>349.739791</td>\n",
       "    </tr>\n",
       "    <tr>\n",
       "      <th>3</th>\n",
       "      <td>32.199577</td>\n",
       "      <td>11.295163</td>\n",
       "      <td>37.425695</td>\n",
       "      <td>5.234337</td>\n",
       "      <td>547.709921</td>\n",
       "    </tr>\n",
       "    <tr>\n",
       "      <th>4</th>\n",
       "      <td>33.570137</td>\n",
       "      <td>13.500972</td>\n",
       "      <td>36.856165</td>\n",
       "      <td>3.938603</td>\n",
       "      <td>487.055641</td>\n",
       "    </tr>\n",
       "  </tbody>\n",
       "</table>\n",
       "</div>"
      ],
      "text/plain": [
       "   Avg Session length  Time on App  Time on Website  Length of MemberShip  \\\n",
       "0           32.538350    12.028846        35.850540              3.648854   \n",
       "1           34.206718    12.226851        37.246443              1.987536   \n",
       "2           31.535240    11.814341        36.610697              3.351191   \n",
       "3           32.199577    11.295163        37.425695              5.234337   \n",
       "4           33.570137    13.500972        36.856165              3.938603   \n",
       "\n",
       "   Yealy amount spent  \n",
       "0          576.098273  \n",
       "1          460.784955  \n",
       "2          349.739791  \n",
       "3          547.709921  \n",
       "4          487.055641  "
      ]
     },
     "execution_count": 7,
     "metadata": {},
     "output_type": "execute_result"
    }
   ],
   "source": [
    "datanew.head()"
   ]
  },
  {
   "cell_type": "code",
   "execution_count": 8,
   "id": "0a499707",
   "metadata": {},
   "outputs": [
    {
     "name": "stdout",
     "output_type": "stream",
     "text": [
      "highest allowed 35.88664047741373\n",
      "lowest allowed 30.19221691693615\n"
     ]
    }
   ],
   "source": [
    "print(\"highest allowed\",datanew['Avg Session length'].mean() + 3*datanew['Avg Session length'].std())\n",
    "\n",
    "print(\"lowest allowed\",datanew['Avg Session length'].mean() - 3*datanew['Avg Session length'].std())"
   ]
  },
  {
   "cell_type": "code",
   "execution_count": 9,
   "id": "5ee049cc",
   "metadata": {},
   "outputs": [
    {
     "data": {
      "text/html": [
       "<div>\n",
       "<style scoped>\n",
       "    .dataframe tbody tr th:only-of-type {\n",
       "        vertical-align: middle;\n",
       "    }\n",
       "\n",
       "    .dataframe tbody tr th {\n",
       "        vertical-align: top;\n",
       "    }\n",
       "\n",
       "    .dataframe thead th {\n",
       "        text-align: right;\n",
       "    }\n",
       "</style>\n",
       "<table border=\"1\" class=\"dataframe\">\n",
       "  <thead>\n",
       "    <tr style=\"text-align: right;\">\n",
       "      <th></th>\n",
       "      <th>Avg Session length</th>\n",
       "      <th>Time on App</th>\n",
       "      <th>Time on Website</th>\n",
       "      <th>Length of MemberShip</th>\n",
       "      <th>Yealy amount spent</th>\n",
       "    </tr>\n",
       "  </thead>\n",
       "  <tbody>\n",
       "    <tr>\n",
       "      <th>466</th>\n",
       "      <td>29.9723</td>\n",
       "      <td>10.863173</td>\n",
       "      <td>38.437057</td>\n",
       "      <td>2.715392</td>\n",
       "      <td>580.287338</td>\n",
       "    </tr>\n",
       "  </tbody>\n",
       "</table>\n",
       "</div>"
      ],
      "text/plain": [
       "     Avg Session length  Time on App  Time on Website  Length of MemberShip  \\\n",
       "466             29.9723    10.863173        38.437057              2.715392   \n",
       "\n",
       "     Yealy amount spent  \n",
       "466          580.287338  "
      ]
     },
     "execution_count": 9,
     "metadata": {},
     "output_type": "execute_result"
    }
   ],
   "source": [
    "datanew[(datanew['Avg Session length']>35.88) | (datanew['Avg Session length']<30.19) ]"
   ]
  },
  {
   "cell_type": "code",
   "execution_count": 10,
   "id": "20525925",
   "metadata": {},
   "outputs": [],
   "source": [
    "upperlimit=datanew['Avg Session length'].mean() + 3*datanew['Avg Session length'].std()\n",
    "lowerlimit=datanew['Avg Session length'].mean() - 3*datanew['Avg Session length'].std()"
   ]
  },
  {
   "cell_type": "code",
   "execution_count": 11,
   "id": "5cddcefe",
   "metadata": {},
   "outputs": [],
   "source": [
    "datanew['Avg Session length']=np.where(\n",
    "datanew['Avg Session length']>upperlimit,upperlimit,\n",
    "np.where(datanew['Avg Session length']<lowerlimit,lowerlimit,\n",
    "      datanew['Avg Session length']\n",
    "        )\n",
    ")"
   ]
  },
  {
   "cell_type": "code",
   "execution_count": 12,
   "id": "291aacb0",
   "metadata": {},
   "outputs": [
    {
     "data": {
      "text/plain": [
       "count    623.000000\n",
       "mean      33.039429\n",
       "std        0.949071\n",
       "min       29.972300\n",
       "25%       32.375680\n",
       "50%       33.044399\n",
       "75%       33.700947\n",
       "max       35.744415\n",
       "Name: Avg Session length, dtype: float64"
      ]
     },
     "execution_count": 12,
     "metadata": {},
     "output_type": "execute_result"
    }
   ],
   "source": [
    "data['Avg Session length'].describe()"
   ]
  },
  {
   "cell_type": "code",
   "execution_count": null,
   "id": "e94a2baa",
   "metadata": {},
   "outputs": [],
   "source": []
  },
  {
   "cell_type": "code",
   "execution_count": null,
   "id": "0ed95b11",
   "metadata": {},
   "outputs": [],
   "source": []
  },
  {
   "cell_type": "code",
   "execution_count": 13,
   "id": "13ed1028",
   "metadata": {},
   "outputs": [
    {
     "data": {
      "text/plain": [
       "count    623.000000\n",
       "mean      12.001459\n",
       "std        0.996609\n",
       "min        9.273248\n",
       "25%       11.334163\n",
       "50%       11.998823\n",
       "75%       12.647695\n",
       "max       15.138317\n",
       "Name: Time on App, dtype: float64"
      ]
     },
     "execution_count": 13,
     "metadata": {},
     "output_type": "execute_result"
    }
   ],
   "source": [
    "data['Time on App'].describe()"
   ]
  },
  {
   "cell_type": "code",
   "execution_count": 14,
   "id": "1c4b5e4e",
   "metadata": {},
   "outputs": [
    {
     "name": "stdout",
     "output_type": "stream",
     "text": [
      "highest allowed 14.991286571146503\n",
      "lowest allowed 9.011631370111921\n"
     ]
    }
   ],
   "source": [
    "print(\"highest allowed\",datanew['Time on App'].mean() + 3*datanew['Time on App'].std())\n",
    "\n",
    "print(\"lowest allowed\",datanew['Time on App'].mean() - 3*datanew['Time on App'].std())"
   ]
  },
  {
   "cell_type": "code",
   "execution_count": 15,
   "id": "4bcd20e9",
   "metadata": {},
   "outputs": [
    {
     "data": {
      "text/html": [
       "<div>\n",
       "<style scoped>\n",
       "    .dataframe tbody tr th:only-of-type {\n",
       "        vertical-align: middle;\n",
       "    }\n",
       "\n",
       "    .dataframe tbody tr th {\n",
       "        vertical-align: top;\n",
       "    }\n",
       "\n",
       "    .dataframe thead th {\n",
       "        text-align: right;\n",
       "    }\n",
       "</style>\n",
       "<table border=\"1\" class=\"dataframe\">\n",
       "  <thead>\n",
       "    <tr style=\"text-align: right;\">\n",
       "      <th></th>\n",
       "      <th>Avg Session length</th>\n",
       "      <th>Time on App</th>\n",
       "      <th>Time on Website</th>\n",
       "      <th>Length of MemberShip</th>\n",
       "      <th>Yealy amount spent</th>\n",
       "    </tr>\n",
       "  </thead>\n",
       "  <tbody>\n",
       "    <tr>\n",
       "      <th>403</th>\n",
       "      <td>31.482404</td>\n",
       "      <td>15.138317</td>\n",
       "      <td>35.889082</td>\n",
       "      <td>3.350676</td>\n",
       "      <td>467.67009</td>\n",
       "    </tr>\n",
       "  </tbody>\n",
       "</table>\n",
       "</div>"
      ],
      "text/plain": [
       "     Avg Session length  Time on App  Time on Website  Length of MemberShip  \\\n",
       "403           31.482404    15.138317        35.889082              3.350676   \n",
       "\n",
       "     Yealy amount spent  \n",
       "403           467.67009  "
      ]
     },
     "execution_count": 15,
     "metadata": {},
     "output_type": "execute_result"
    }
   ],
   "source": [
    "datanew[(datanew['Time on App']>14.99) | (datanew['Time on App']<9.01) ]"
   ]
  },
  {
   "cell_type": "code",
   "execution_count": 16,
   "id": "e8c545ea",
   "metadata": {},
   "outputs": [],
   "source": [
    "upperlimit=datanew['Time on App'].mean() + 3*datanew['Time on App'].std()\n",
    "lowerlimit=datanew['Time on App'].mean() - 3*datanew['Time on App'].std()"
   ]
  },
  {
   "cell_type": "code",
   "execution_count": 17,
   "id": "0e1b370f",
   "metadata": {},
   "outputs": [],
   "source": [
    "datanew['Time on App']=np.where(\n",
    "datanew['Time on App']>upperlimit,upperlimit,\n",
    "np.where(datanew['Time on App']<lowerlimit,lowerlimit,\n",
    "      datanew['Time on App']\n",
    "        )\n",
    ")"
   ]
  },
  {
   "cell_type": "code",
   "execution_count": 18,
   "id": "5b51a7fb",
   "metadata": {},
   "outputs": [
    {
     "data": {
      "text/plain": [
       "count    623.000000\n",
       "mean      12.001223\n",
       "std        0.995882\n",
       "min        9.273248\n",
       "25%       11.334163\n",
       "50%       11.998823\n",
       "75%       12.647695\n",
       "max       14.991287\n",
       "Name: Time on App, dtype: float64"
      ]
     },
     "execution_count": 18,
     "metadata": {},
     "output_type": "execute_result"
    }
   ],
   "source": [
    "datanew['Time on App'].describe()"
   ]
  },
  {
   "cell_type": "code",
   "execution_count": 19,
   "id": "6c1fdc81",
   "metadata": {},
   "outputs": [
    {
     "data": {
      "text/plain": [
       "count    623.000000\n",
       "mean      12.001459\n",
       "std        0.996609\n",
       "min        9.273248\n",
       "25%       11.334163\n",
       "50%       11.998823\n",
       "75%       12.647695\n",
       "max       15.138317\n",
       "Name: Time on App, dtype: float64"
      ]
     },
     "execution_count": 19,
     "metadata": {},
     "output_type": "execute_result"
    }
   ],
   "source": [
    "data['Time on App'].describe()"
   ]
  },
  {
   "cell_type": "code",
   "execution_count": null,
   "id": "59c732bd",
   "metadata": {},
   "outputs": [],
   "source": []
  },
  {
   "cell_type": "code",
   "execution_count": 22,
   "id": "5607bddc",
   "metadata": {},
   "outputs": [
    {
     "name": "stdout",
     "output_type": "stream",
     "text": [
      "highest allowed 40.05427601672804\n",
      "lowest allowed 34.1037607661291\n"
     ]
    }
   ],
   "source": [
    "print(\"highest allowed\",datanew['Time on Website'].mean() + 3*datanew['Time on Website'].std())\n",
    "\n",
    "print(\"lowest allowed\",datanew['Time on Website'].mean() - 3*datanew['Time on Website'].std())"
   ]
  },
  {
   "cell_type": "code",
   "execution_count": 23,
   "id": "8e6bc175",
   "metadata": {},
   "outputs": [
    {
     "data": {
      "text/html": [
       "<div>\n",
       "<style scoped>\n",
       "    .dataframe tbody tr th:only-of-type {\n",
       "        vertical-align: middle;\n",
       "    }\n",
       "\n",
       "    .dataframe tbody tr th {\n",
       "        vertical-align: top;\n",
       "    }\n",
       "\n",
       "    .dataframe thead th {\n",
       "        text-align: right;\n",
       "    }\n",
       "</style>\n",
       "<table border=\"1\" class=\"dataframe\">\n",
       "  <thead>\n",
       "    <tr style=\"text-align: right;\">\n",
       "      <th></th>\n",
       "      <th>Avg Session length</th>\n",
       "      <th>Time on App</th>\n",
       "      <th>Time on Website</th>\n",
       "      <th>Length of MemberShip</th>\n",
       "      <th>Yealy amount spent</th>\n",
       "    </tr>\n",
       "  </thead>\n",
       "  <tbody>\n",
       "    <tr>\n",
       "      <th>114</th>\n",
       "      <td>32.803528</td>\n",
       "      <td>12.674081</td>\n",
       "      <td>40.808388</td>\n",
       "      <td>4.946204</td>\n",
       "      <td>501.665489</td>\n",
       "    </tr>\n",
       "    <tr>\n",
       "      <th>151</th>\n",
       "      <td>34.457991</td>\n",
       "      <td>10.703615</td>\n",
       "      <td>33.883174</td>\n",
       "      <td>1.940848</td>\n",
       "      <td>605.829768</td>\n",
       "    </tr>\n",
       "    <tr>\n",
       "      <th>381</th>\n",
       "      <td>32.994988</td>\n",
       "      <td>9.895113</td>\n",
       "      <td>33.751071</td>\n",
       "      <td>5.067124</td>\n",
       "      <td>531.562863</td>\n",
       "    </tr>\n",
       "  </tbody>\n",
       "</table>\n",
       "</div>"
      ],
      "text/plain": [
       "     Avg Session length  Time on App  Time on Website  Length of MemberShip  \\\n",
       "114           32.803528    12.674081        40.808388              4.946204   \n",
       "151           34.457991    10.703615        33.883174              1.940848   \n",
       "381           32.994988     9.895113        33.751071              5.067124   \n",
       "\n",
       "     Yealy amount spent  \n",
       "114          501.665489  \n",
       "151          605.829768  \n",
       "381          531.562863  "
      ]
     },
     "execution_count": 23,
     "metadata": {},
     "output_type": "execute_result"
    }
   ],
   "source": [
    "datanew[(datanew['Time on Website']>40.05) | (datanew['Time on Website']<34.1037) ]"
   ]
  },
  {
   "cell_type": "code",
   "execution_count": 24,
   "id": "d89da5a9",
   "metadata": {},
   "outputs": [],
   "source": [
    "upperlimit=datanew['Time on Website'].mean() + 3*datanew['Time on Website'].std()\n",
    "lowerlimit=datanew['Time on Website'].mean() - 3*datanew['Time on Website'].std()"
   ]
  },
  {
   "cell_type": "code",
   "execution_count": 25,
   "id": "99aee359",
   "metadata": {},
   "outputs": [],
   "source": [
    "datanew['Time on Website']=np.where(\n",
    "datanew['Time on Website']>upperlimit,upperlimit,\n",
    "np.where(datanew['Time on Website']<lowerlimit,lowerlimit,\n",
    "      datanew['Time on Website']\n",
    "        )\n",
    ")"
   ]
  },
  {
   "cell_type": "code",
   "execution_count": 26,
   "id": "ef5fcc21",
   "metadata": {},
   "outputs": [
    {
     "data": {
      "text/plain": [
       "count    623.000000\n",
       "mean      37.079018\n",
       "std        0.991753\n",
       "min       33.751071\n",
       "25%       36.376725\n",
       "50%       37.113631\n",
       "75%       37.773880\n",
       "max       40.808388\n",
       "Name: Time on Website, dtype: float64"
      ]
     },
     "execution_count": 26,
     "metadata": {},
     "output_type": "execute_result"
    }
   ],
   "source": [
    "data['Time on Website'].describe()"
   ]
  },
  {
   "cell_type": "code",
   "execution_count": 27,
   "id": "3cf73e33",
   "metadata": {},
   "outputs": [
    {
     "data": {
      "text/plain": [
       "count    623.000000\n",
       "mean      37.078728\n",
       "std        0.984724\n",
       "min       34.103761\n",
       "25%       36.376725\n",
       "50%       37.113631\n",
       "75%       37.773880\n",
       "max       40.054276\n",
       "Name: Time on Website, dtype: float64"
      ]
     },
     "execution_count": 27,
     "metadata": {},
     "output_type": "execute_result"
    }
   ],
   "source": [
    "datanew['Time on Website'].describe()"
   ]
  },
  {
   "cell_type": "code",
   "execution_count": null,
   "id": "086824f9",
   "metadata": {},
   "outputs": [],
   "source": []
  },
  {
   "cell_type": "code",
   "execution_count": 28,
   "id": "bc2a3cef",
   "metadata": {},
   "outputs": [
    {
     "name": "stdout",
     "output_type": "stream",
     "text": [
      "highest allowed 6.359037942989341\n",
      "lowest allowed 0.6706613078934751\n"
     ]
    }
   ],
   "source": [
    "print(\"highest allowed\",datanew['Length of MemberShip'].mean() + 3*datanew['Length of MemberShip'].std())\n",
    "\n",
    "print(\"lowest allowed\",datanew['Length of MemberShip'].mean() - 3*datanew['Length of MemberShip'].std())"
   ]
  },
  {
   "cell_type": "code",
   "execution_count": 29,
   "id": "b8a08f95",
   "metadata": {},
   "outputs": [
    {
     "data": {
      "text/html": [
       "<div>\n",
       "<style scoped>\n",
       "    .dataframe tbody tr th:only-of-type {\n",
       "        vertical-align: middle;\n",
       "    }\n",
       "\n",
       "    .dataframe tbody tr th {\n",
       "        vertical-align: top;\n",
       "    }\n",
       "\n",
       "    .dataframe thead th {\n",
       "        text-align: right;\n",
       "    }\n",
       "</style>\n",
       "<table border=\"1\" class=\"dataframe\">\n",
       "  <thead>\n",
       "    <tr style=\"text-align: right;\">\n",
       "      <th></th>\n",
       "      <th>Avg Session length</th>\n",
       "      <th>Time on App</th>\n",
       "      <th>Time on Website</th>\n",
       "      <th>Length of MemberShip</th>\n",
       "      <th>Yealy amount spent</th>\n",
       "    </tr>\n",
       "  </thead>\n",
       "  <tbody>\n",
       "    <tr>\n",
       "      <th>262</th>\n",
       "      <td>33.368670</td>\n",
       "      <td>11.809947</td>\n",
       "      <td>36.634699</td>\n",
       "      <td>6.553916</td>\n",
       "      <td>474.822177</td>\n",
       "    </tr>\n",
       "    <tr>\n",
       "      <th>337</th>\n",
       "      <td>35.008949</td>\n",
       "      <td>11.690502</td>\n",
       "      <td>36.627809</td>\n",
       "      <td>6.363211</td>\n",
       "      <td>542.996297</td>\n",
       "    </tr>\n",
       "    <tr>\n",
       "      <th>486</th>\n",
       "      <td>33.486628</td>\n",
       "      <td>10.232959</td>\n",
       "      <td>37.102796</td>\n",
       "      <td>6.411200</td>\n",
       "      <td>544.635430</td>\n",
       "    </tr>\n",
       "  </tbody>\n",
       "</table>\n",
       "</div>"
      ],
      "text/plain": [
       "     Avg Session length  Time on App  Time on Website  Length of MemberShip  \\\n",
       "262           33.368670    11.809947        36.634699              6.553916   \n",
       "337           35.008949    11.690502        36.627809              6.363211   \n",
       "486           33.486628    10.232959        37.102796              6.411200   \n",
       "\n",
       "     Yealy amount spent  \n",
       "262          474.822177  \n",
       "337          542.996297  \n",
       "486          544.635430  "
      ]
     },
     "execution_count": 29,
     "metadata": {},
     "output_type": "execute_result"
    }
   ],
   "source": [
    "datanew[(datanew['Length of MemberShip']>6.35) | (datanew['Length of MemberShip']<0.6760) ]"
   ]
  },
  {
   "cell_type": "code",
   "execution_count": 30,
   "id": "40c624be",
   "metadata": {},
   "outputs": [],
   "source": [
    "upperlimit=datanew['Length of MemberShip'].mean() + 3*datanew['Length of MemberShip'].std()\n",
    "lowerlimit=datanew['Length of MemberShip'].mean() - 3*datanew['Length of MemberShip'].std()"
   ]
  },
  {
   "cell_type": "code",
   "execution_count": 31,
   "id": "184d8426",
   "metadata": {},
   "outputs": [],
   "source": [
    "datanew['Length of MemberShip']=np.where(\n",
    "datanew['Length of MemberShip']>upperlimit,upperlimit,\n",
    "np.where(datanew['Length of MemberShip']<lowerlimit,lowerlimit,\n",
    "      datanew['Length of MemberShip']\n",
    "        )\n",
    ")"
   ]
  },
  {
   "cell_type": "code",
   "execution_count": 32,
   "id": "bbf60c27",
   "metadata": {},
   "outputs": [
    {
     "data": {
      "text/plain": [
       "count    623.000000\n",
       "mean       3.514850\n",
       "std        0.948063\n",
       "min        0.891398\n",
       "25%        2.906558\n",
       "50%        3.504771\n",
       "75%        4.140305\n",
       "max        6.553916\n",
       "Name: Length of MemberShip, dtype: float64"
      ]
     },
     "execution_count": 32,
     "metadata": {},
     "output_type": "execute_result"
    }
   ],
   "source": [
    "data['Length of MemberShip'].describe()"
   ]
  },
  {
   "cell_type": "code",
   "execution_count": 33,
   "id": "d719fcb4",
   "metadata": {},
   "outputs": [
    {
     "data": {
      "text/plain": [
       "count    623.000000\n",
       "mean       3.514446\n",
       "std        0.946816\n",
       "min        0.891398\n",
       "25%        2.906558\n",
       "50%        3.504771\n",
       "75%        4.140305\n",
       "max        6.359038\n",
       "Name: Length of MemberShip, dtype: float64"
      ]
     },
     "execution_count": 33,
     "metadata": {},
     "output_type": "execute_result"
    }
   ],
   "source": [
    "datanew['Length of MemberShip'].describe()"
   ]
  },
  {
   "cell_type": "code",
   "execution_count": null,
   "id": "5971f201",
   "metadata": {},
   "outputs": [],
   "source": []
  },
  {
   "cell_type": "code",
   "execution_count": 34,
   "id": "ce3fed4d",
   "metadata": {},
   "outputs": [
    {
     "name": "stdout",
     "output_type": "stream",
     "text": [
      "highest allowed 739.698916048476\n",
      "lowest allowed 259.5011290398072\n"
     ]
    }
   ],
   "source": [
    "print(\"highest allowed\",datanew['Yealy amount spent'].mean() + 3*datanew['Yealy amount spent'].std())\n",
    "\n",
    "print(\"lowest allowed\",datanew['Yealy amount spent'].mean() - 3*datanew['Yealy amount spent'].std())"
   ]
  },
  {
   "cell_type": "code",
   "execution_count": 37,
   "id": "fccf5c87",
   "metadata": {},
   "outputs": [
    {
     "data": {
      "text/html": [
       "<div>\n",
       "<style scoped>\n",
       "    .dataframe tbody tr th:only-of-type {\n",
       "        vertical-align: middle;\n",
       "    }\n",
       "\n",
       "    .dataframe tbody tr th {\n",
       "        vertical-align: top;\n",
       "    }\n",
       "\n",
       "    .dataframe thead th {\n",
       "        text-align: right;\n",
       "    }\n",
       "</style>\n",
       "<table border=\"1\" class=\"dataframe\">\n",
       "  <thead>\n",
       "    <tr style=\"text-align: right;\">\n",
       "      <th></th>\n",
       "      <th>Avg Session length</th>\n",
       "      <th>Time on App</th>\n",
       "      <th>Time on Website</th>\n",
       "      <th>Length of MemberShip</th>\n",
       "      <th>Yealy amount spent</th>\n",
       "    </tr>\n",
       "  </thead>\n",
       "  <tbody>\n",
       "    <tr>\n",
       "      <th>9</th>\n",
       "      <td>33.696003</td>\n",
       "      <td>12.488779</td>\n",
       "      <td>36.322443</td>\n",
       "      <td>1.965374</td>\n",
       "      <td>775.337626</td>\n",
       "    </tr>\n",
       "    <tr>\n",
       "      <th>20</th>\n",
       "      <td>32.100980</td>\n",
       "      <td>10.850749</td>\n",
       "      <td>37.438323</td>\n",
       "      <td>4.302290</td>\n",
       "      <td>256.670000</td>\n",
       "    </tr>\n",
       "    <tr>\n",
       "      <th>44</th>\n",
       "      <td>32.655103</td>\n",
       "      <td>11.452659</td>\n",
       "      <td>38.624902</td>\n",
       "      <td>2.147533</td>\n",
       "      <td>765.000000</td>\n",
       "    </tr>\n",
       "    <tr>\n",
       "      <th>425</th>\n",
       "      <td>32.632405</td>\n",
       "      <td>11.239300</td>\n",
       "      <td>38.127444</td>\n",
       "      <td>3.254807</td>\n",
       "      <td>756.235633</td>\n",
       "    </tr>\n",
       "  </tbody>\n",
       "</table>\n",
       "</div>"
      ],
      "text/plain": [
       "     Avg Session length  Time on App  Time on Website  Length of MemberShip  \\\n",
       "9             33.696003    12.488779        36.322443              1.965374   \n",
       "20            32.100980    10.850749        37.438323              4.302290   \n",
       "44            32.655103    11.452659        38.624902              2.147533   \n",
       "425           32.632405    11.239300        38.127444              3.254807   \n",
       "\n",
       "     Yealy amount spent  \n",
       "9            775.337626  \n",
       "20           256.670000  \n",
       "44           765.000000  \n",
       "425          756.235633  "
      ]
     },
     "execution_count": 37,
     "metadata": {},
     "output_type": "execute_result"
    }
   ],
   "source": [
    "datanew[(datanew['Yealy amount spent']>739.6989) | (datanew['Yealy amount spent']<259.5011)]"
   ]
  },
  {
   "cell_type": "code",
   "execution_count": 38,
   "id": "470d6d6f",
   "metadata": {},
   "outputs": [],
   "source": [
    "upperlimit=datanew['Yealy amount spent'].mean() + 3*datanew['Yealy amount spent'].std()\n",
    "lowerlimit=datanew['Yealy amount spent'].mean() - 3*datanew['Yealy amount spent'].std()"
   ]
  },
  {
   "cell_type": "code",
   "execution_count": 39,
   "id": "55f77181",
   "metadata": {},
   "outputs": [],
   "source": [
    "datanew['Yealy amount spent']=np.where(\n",
    "datanew['Yealy amount spent']>upperlimit,upperlimit,\n",
    "np.where(datanew['Yealy amount spent']<lowerlimit,lowerlimit,\n",
    "      datanew['Yealy amount spent']\n",
    "        )\n",
    ")"
   ]
  },
  {
   "cell_type": "code",
   "execution_count": 40,
   "id": "842ebcc1",
   "metadata": {},
   "outputs": [
    {
     "data": {
      "text/plain": [
       "count    623.000000\n",
       "mean     499.600023\n",
       "std       80.032965\n",
       "min      256.670000\n",
       "25%      447.665160\n",
       "50%      498.806136\n",
       "75%      551.257208\n",
       "max      775.337626\n",
       "Name: Yealy amount spent, dtype: float64"
      ]
     },
     "execution_count": 40,
     "metadata": {},
     "output_type": "execute_result"
    }
   ],
   "source": [
    "data['Yealy amount spent'].describe()"
   ]
  },
  {
   "cell_type": "code",
   "execution_count": 42,
   "id": "90033a20",
   "metadata": {},
   "outputs": [
    {
     "data": {
      "text/plain": [
       "count    623.000000\n",
       "mean     499.480207\n",
       "std       79.622472\n",
       "min      259.501129\n",
       "25%      447.665160\n",
       "50%      498.806136\n",
       "75%      551.257208\n",
       "max      739.698916\n",
       "Name: Yealy amount spent, dtype: float64"
      ]
     },
     "execution_count": 42,
     "metadata": {},
     "output_type": "execute_result"
    }
   ],
   "source": [
    "datanew['Yealy amount spent'].describe()"
   ]
  },
  {
   "cell_type": "code",
   "execution_count": 46,
   "id": "5dc8c773",
   "metadata": {},
   "outputs": [
    {
     "data": {
      "text/html": [
       "<div>\n",
       "<style scoped>\n",
       "    .dataframe tbody tr th:only-of-type {\n",
       "        vertical-align: middle;\n",
       "    }\n",
       "\n",
       "    .dataframe tbody tr th {\n",
       "        vertical-align: top;\n",
       "    }\n",
       "\n",
       "    .dataframe thead th {\n",
       "        text-align: right;\n",
       "    }\n",
       "</style>\n",
       "<table border=\"1\" class=\"dataframe\">\n",
       "  <thead>\n",
       "    <tr style=\"text-align: right;\">\n",
       "      <th></th>\n",
       "      <th>Avg Session length</th>\n",
       "      <th>Time on App</th>\n",
       "      <th>Time on Website</th>\n",
       "      <th>Length of MemberShip</th>\n",
       "      <th>Yealy amount spent</th>\n",
       "    </tr>\n",
       "  </thead>\n",
       "  <tbody>\n",
       "    <tr>\n",
       "      <th>0</th>\n",
       "      <td>32.538350</td>\n",
       "      <td>12.028846</td>\n",
       "      <td>35.850540</td>\n",
       "      <td>3.648854</td>\n",
       "      <td>576.098273</td>\n",
       "    </tr>\n",
       "    <tr>\n",
       "      <th>1</th>\n",
       "      <td>34.206718</td>\n",
       "      <td>12.226851</td>\n",
       "      <td>37.246443</td>\n",
       "      <td>1.987536</td>\n",
       "      <td>460.784955</td>\n",
       "    </tr>\n",
       "    <tr>\n",
       "      <th>2</th>\n",
       "      <td>31.535240</td>\n",
       "      <td>11.814341</td>\n",
       "      <td>36.610697</td>\n",
       "      <td>3.351191</td>\n",
       "      <td>349.739791</td>\n",
       "    </tr>\n",
       "    <tr>\n",
       "      <th>3</th>\n",
       "      <td>32.199577</td>\n",
       "      <td>11.295163</td>\n",
       "      <td>37.425695</td>\n",
       "      <td>5.234337</td>\n",
       "      <td>547.709921</td>\n",
       "    </tr>\n",
       "    <tr>\n",
       "      <th>4</th>\n",
       "      <td>33.570137</td>\n",
       "      <td>13.500972</td>\n",
       "      <td>36.856165</td>\n",
       "      <td>3.938603</td>\n",
       "      <td>487.055641</td>\n",
       "    </tr>\n",
       "  </tbody>\n",
       "</table>\n",
       "</div>"
      ],
      "text/plain": [
       "   Avg Session length  Time on App  Time on Website  Length of MemberShip  \\\n",
       "0           32.538350    12.028846        35.850540              3.648854   \n",
       "1           34.206718    12.226851        37.246443              1.987536   \n",
       "2           31.535240    11.814341        36.610697              3.351191   \n",
       "3           32.199577    11.295163        37.425695              5.234337   \n",
       "4           33.570137    13.500972        36.856165              3.938603   \n",
       "\n",
       "   Yealy amount spent  \n",
       "0          576.098273  \n",
       "1          460.784955  \n",
       "2          349.739791  \n",
       "3          547.709921  \n",
       "4          487.055641  "
      ]
     },
     "execution_count": 46,
     "metadata": {},
     "output_type": "execute_result"
    }
   ],
   "source": [
    "datanew.head()"
   ]
  },
  {
   "cell_type": "code",
   "execution_count": 47,
   "id": "96adf196",
   "metadata": {},
   "outputs": [],
   "source": [
    "import pandas as pd \n",
    "import numpy as np\n",
    "import seaborn as sns\n",
    "import matplotlib.pyplot as plt"
   ]
  },
  {
   "cell_type": "code",
   "execution_count": 48,
   "id": "524c9bfd",
   "metadata": {},
   "outputs": [],
   "source": [
    "import warnings\n",
    "warnings.filterwarnings(\"ignore\")"
   ]
  },
  {
   "cell_type": "markdown",
   "id": "3dafaf08",
   "metadata": {},
   "source": [
    "# model buliding"
   ]
  },
  {
   "cell_type": "markdown",
   "id": "ef79cbae",
   "metadata": {},
   "source": [
    "# svm"
   ]
  },
  {
   "cell_type": "code",
   "execution_count": 111,
   "id": "6d6185e4",
   "metadata": {},
   "outputs": [],
   "source": [
    "from sklearn.svm import SVR\n",
    "from sklearn.model_selection import train_test_split\n",
    "from sklearn import metrics"
   ]
  },
  {
   "cell_type": "code",
   "execution_count": 112,
   "id": "b2540a85",
   "metadata": {},
   "outputs": [],
   "source": [
    "x=datanew.iloc[:,:-1]\n",
    "y=datanew.iloc[:,-1]\n",
    "x_train,x_test,y_train,y_test=train_test_split(x,y,test_size=0.2,random_state=20)"
   ]
  },
  {
   "cell_type": "code",
   "execution_count": 113,
   "id": "71f04eb7",
   "metadata": {},
   "outputs": [
    {
     "data": {
      "text/plain": [
       "SVR()"
      ]
     },
     "execution_count": 113,
     "metadata": {},
     "output_type": "execute_result"
    }
   ],
   "source": [
    "modelsvm= SVR()\n",
    "modelsvm.fit(x_train,y_train)"
   ]
  },
  {
   "cell_type": "code",
   "execution_count": 114,
   "id": "6c537bff",
   "metadata": {},
   "outputs": [],
   "source": [
    "predt=modelsvm.predict(x_test)"
   ]
  },
  {
   "cell_type": "code",
   "execution_count": 115,
   "id": "6b9979f4",
   "metadata": {},
   "outputs": [
    {
     "data": {
      "text/plain": [
       "0.12884185682061491"
      ]
     },
     "execution_count": 115,
     "metadata": {},
     "output_type": "execute_result"
    }
   ],
   "source": [
    "metrics.mean_absolute_percentage_error(predt,y_test)"
   ]
  },
  {
   "cell_type": "code",
   "execution_count": 116,
   "id": "e6212ea5",
   "metadata": {},
   "outputs": [
    {
     "data": {
      "text/plain": [
       "64.47331255212232"
      ]
     },
     "execution_count": 116,
     "metadata": {},
     "output_type": "execute_result"
    }
   ],
   "source": [
    "metrics.mean_absolute_error(predt,y_test)"
   ]
  },
  {
   "cell_type": "markdown",
   "id": "3b9efd9b",
   "metadata": {},
   "source": [
    "## decision tree"
   ]
  },
  {
   "cell_type": "code",
   "execution_count": 105,
   "id": "cc731a47",
   "metadata": {},
   "outputs": [],
   "source": [
    "from sklearn.tree import DecisionTreeRegressor\n",
    "import numpy as np\n",
    "from sklearn.model_selection import train_test_split\n",
    "from sklearn import tree\n",
    "from sklearn import metrics"
   ]
  },
  {
   "cell_type": "code",
   "execution_count": 106,
   "id": "42bfa232",
   "metadata": {},
   "outputs": [],
   "source": [
    "x=datanew.iloc[:,:-1]\n",
    "y=datanew.iloc[:,-1]\n",
    "x_train,x_test,y_train,y_test=train_test_split(x,y,test_size=0.2,random_state=20)"
   ]
  },
  {
   "cell_type": "code",
   "execution_count": 107,
   "id": "c8e1d3c1",
   "metadata": {},
   "outputs": [
    {
     "data": {
      "text/plain": [
       "DecisionTreeRegressor()"
      ]
     },
     "execution_count": 107,
     "metadata": {},
     "output_type": "execute_result"
    }
   ],
   "source": [
    "model=DecisionTreeRegressor()\n",
    "model.fit(x_train,y_train)"
   ]
  },
  {
   "cell_type": "code",
   "execution_count": 108,
   "id": "5fc2ea37",
   "metadata": {},
   "outputs": [],
   "source": [
    "pred=model.predict(x_test)"
   ]
  },
  {
   "cell_type": "code",
   "execution_count": 109,
   "id": "b2ac4ac4",
   "metadata": {},
   "outputs": [
    {
     "data": {
      "text/plain": [
       "0.19005761728414627"
      ]
     },
     "execution_count": 109,
     "metadata": {},
     "output_type": "execute_result"
    }
   ],
   "source": [
    "metrics.mean_absolute_percentage_error(y_test,pred)"
   ]
  },
  {
   "cell_type": "code",
   "execution_count": 110,
   "id": "bce348c3",
   "metadata": {},
   "outputs": [
    {
     "data": {
      "text/plain": [
       "87.26216710608155"
      ]
     },
     "execution_count": 110,
     "metadata": {},
     "output_type": "execute_result"
    }
   ],
   "source": [
    "metrics.mean_absolute_error(y_test,pred)"
   ]
  },
  {
   "cell_type": "markdown",
   "id": "045420e5",
   "metadata": {},
   "source": [
    "## random forest"
   ]
  },
  {
   "cell_type": "code",
   "execution_count": 62,
   "id": "2830051f",
   "metadata": {},
   "outputs": [],
   "source": [
    "from sklearn.ensemble import RandomForestRegressor\n",
    "from sklearn.model_selection import train_test_split"
   ]
  },
  {
   "cell_type": "code",
   "execution_count": 63,
   "id": "4eaf2ffb",
   "metadata": {},
   "outputs": [],
   "source": [
    "x=datanew.iloc[:,:-1]\n",
    "y=datanew.iloc[:,-1]\n",
    "x_train,x_test,y_train,y_test=train_test_split(x,y,test_size=0.2,random_state=20)"
   ]
  },
  {
   "cell_type": "code",
   "execution_count": 64,
   "id": "44eab6e3",
   "metadata": {},
   "outputs": [
    {
     "data": {
      "text/plain": [
       "RandomForestRegressor()"
      ]
     },
     "execution_count": 64,
     "metadata": {},
     "output_type": "execute_result"
    }
   ],
   "source": [
    "model2=RandomForestRegressor()\n",
    "model2.fit(x_train,y_train)"
   ]
  },
  {
   "cell_type": "code",
   "execution_count": 65,
   "id": "3dab4288",
   "metadata": {},
   "outputs": [],
   "source": [
    "y_pred=model2.predict(x_test)"
   ]
  },
  {
   "cell_type": "code",
   "execution_count": 66,
   "id": "5228f916",
   "metadata": {},
   "outputs": [
    {
     "data": {
      "text/plain": [
       "0.1616783872214229"
      ]
     },
     "execution_count": 66,
     "metadata": {},
     "output_type": "execute_result"
    }
   ],
   "source": [
    "metrics.mean_absolute_percentage_error(y_test,y_pred)"
   ]
  },
  {
   "cell_type": "code",
   "execution_count": 67,
   "id": "06d9ec3a",
   "metadata": {},
   "outputs": [
    {
     "data": {
      "text/plain": [
       "72.92186530839085"
      ]
     },
     "execution_count": 67,
     "metadata": {},
     "output_type": "execute_result"
    }
   ],
   "source": [
    "metrics.mean_absolute_error(y_pred,y_test)"
   ]
  },
  {
   "cell_type": "markdown",
   "id": "49d835b7",
   "metadata": {},
   "source": [
    "## bagging regression"
   ]
  },
  {
   "cell_type": "code",
   "execution_count": 68,
   "id": "f53197e0",
   "metadata": {},
   "outputs": [],
   "source": [
    "from sklearn.ensemble import BaggingRegressor\n",
    "from sklearn.model_selection import train_test_split\n",
    "from sklearn import metrics"
   ]
  },
  {
   "cell_type": "code",
   "execution_count": 69,
   "id": "342bf82c",
   "metadata": {},
   "outputs": [],
   "source": [
    "x=datanew.iloc[:,:-1]\n",
    "y=datanew.iloc[:,-1]\n",
    "x_train,x_test,y_train,y_test=train_test_split(x,y,test_size=0.2,random_state=20)"
   ]
  },
  {
   "cell_type": "code",
   "execution_count": 70,
   "id": "588969cc",
   "metadata": {},
   "outputs": [
    {
     "data": {
      "text/plain": [
       "BaggingRegressor()"
      ]
     },
     "execution_count": 70,
     "metadata": {},
     "output_type": "execute_result"
    }
   ],
   "source": [
    "model4=BaggingRegressor()\n",
    "model4.fit(x_train,y_train)"
   ]
  },
  {
   "cell_type": "code",
   "execution_count": 71,
   "id": "2e2d194e",
   "metadata": {},
   "outputs": [],
   "source": [
    "ypredict=model4.predict(x_test)"
   ]
  },
  {
   "cell_type": "code",
   "execution_count": 72,
   "id": "b5475001",
   "metadata": {},
   "outputs": [
    {
     "data": {
      "text/plain": [
       "0.16126193349156165"
      ]
     },
     "execution_count": 72,
     "metadata": {},
     "output_type": "execute_result"
    }
   ],
   "source": [
    "metrics.mean_absolute_percentage_error(y_test,ypredict)"
   ]
  },
  {
   "cell_type": "code",
   "execution_count": 73,
   "id": "32923ef6",
   "metadata": {},
   "outputs": [
    {
     "data": {
      "text/plain": [
       "73.1622282663991"
      ]
     },
     "execution_count": 73,
     "metadata": {},
     "output_type": "execute_result"
    }
   ],
   "source": [
    "metrics.mean_absolute_error(ypredict,y_test)"
   ]
  },
  {
   "cell_type": "markdown",
   "id": "7b055f9a",
   "metadata": {},
   "source": [
    "### linear regression"
   ]
  },
  {
   "cell_type": "code",
   "execution_count": 74,
   "id": "9df74aa9",
   "metadata": {},
   "outputs": [],
   "source": [
    "from sklearn.linear_model import LinearRegression\n",
    "import statsmodels.formula.api as smf\n",
    "from sklearn import metrics\n",
    "from sklearn.model_selection import train_test_split"
   ]
  },
  {
   "cell_type": "code",
   "execution_count": 75,
   "id": "b27c6f83",
   "metadata": {},
   "outputs": [],
   "source": [
    "x=datanew.iloc[:,:-1]\n",
    "y=datanew.iloc[:,-1]\n",
    "x_train,x_test,y_train,y_test=train_test_split(x,y,test_size=0.2,random_state=20)"
   ]
  },
  {
   "cell_type": "code",
   "execution_count": 76,
   "id": "d296e2b1",
   "metadata": {},
   "outputs": [
    {
     "data": {
      "text/plain": [
       "LinearRegression()"
      ]
     },
     "execution_count": 76,
     "metadata": {},
     "output_type": "execute_result"
    }
   ],
   "source": [
    "modelLR=LinearRegression()\n",
    "modelLR.fit(x_train,y_train)"
   ]
  },
  {
   "cell_type": "code",
   "execution_count": 77,
   "id": "7300498e",
   "metadata": {},
   "outputs": [],
   "source": [
    "pred=modelLR.predict(x_test)"
   ]
  },
  {
   "cell_type": "code",
   "execution_count": 78,
   "id": "7492f3f9",
   "metadata": {},
   "outputs": [
    {
     "data": {
      "text/plain": [
       "65.15961128463418"
      ]
     },
     "execution_count": 78,
     "metadata": {},
     "output_type": "execute_result"
    }
   ],
   "source": [
    "metrics.mean_absolute_error(pred,y_test)"
   ]
  },
  {
   "cell_type": "code",
   "execution_count": 79,
   "id": "1d4a2672",
   "metadata": {},
   "outputs": [
    {
     "data": {
      "text/plain": [
       "0.12985566856247913"
      ]
     },
     "execution_count": 79,
     "metadata": {},
     "output_type": "execute_result"
    }
   ],
   "source": [
    "metrics.mean_absolute_percentage_error(pred,y_test)"
   ]
  },
  {
   "cell_type": "markdown",
   "id": "68454c8a",
   "metadata": {},
   "source": [
    "# lasso ridge and elasticnet regression"
   ]
  },
  {
   "cell_type": "code",
   "execution_count": 80,
   "id": "7c1ffdd3",
   "metadata": {},
   "outputs": [],
   "source": [
    "from sklearn.linear_model import  Ridge\n",
    "from sklearn.model_selection import train_test_split\n",
    "from sklearn import metrics\n",
    "from sklearn.linear_model import Lasso\n",
    "from sklearn.linear_model import ElasticNet "
   ]
  },
  {
   "cell_type": "markdown",
   "id": "ec3f2b7c",
   "metadata": {},
   "source": [
    "### ridge"
   ]
  },
  {
   "cell_type": "code",
   "execution_count": 81,
   "id": "24a2b1df",
   "metadata": {},
   "outputs": [],
   "source": [
    "x=datanew.iloc[:,:-1]\n",
    "y=datanew.iloc[:,-1]\n",
    "x_train,x_test,y_train,y_test=train_test_split(x,y,test_size=0.2,random_state=20)"
   ]
  },
  {
   "cell_type": "code",
   "execution_count": 82,
   "id": "7682ae83",
   "metadata": {},
   "outputs": [
    {
     "data": {
      "text/plain": [
       "Ridge()"
      ]
     },
     "execution_count": 82,
     "metadata": {},
     "output_type": "execute_result"
    }
   ],
   "source": [
    "modelridge=Ridge()\n",
    "modelridge.fit(x_train,y_train)"
   ]
  },
  {
   "cell_type": "code",
   "execution_count": 83,
   "id": "1be60985",
   "metadata": {},
   "outputs": [],
   "source": [
    "predict=modelridge.predict(x_test)"
   ]
  },
  {
   "cell_type": "code",
   "execution_count": 84,
   "id": "6ddba24b",
   "metadata": {},
   "outputs": [
    {
     "data": {
      "text/plain": [
       "0.12985318553437675"
      ]
     },
     "execution_count": 84,
     "metadata": {},
     "output_type": "execute_result"
    }
   ],
   "source": [
    "metrics.mean_absolute_percentage_error(predict,y_test)"
   ]
  },
  {
   "cell_type": "code",
   "execution_count": 85,
   "id": "901e0867",
   "metadata": {},
   "outputs": [
    {
     "data": {
      "text/plain": [
       "65.15833775107154"
      ]
     },
     "execution_count": 85,
     "metadata": {},
     "output_type": "execute_result"
    }
   ],
   "source": [
    "metrics.mean_absolute_error(predict,y_test)"
   ]
  },
  {
   "cell_type": "markdown",
   "id": "efefcd59",
   "metadata": {},
   "source": [
    "### lasso"
   ]
  },
  {
   "cell_type": "code",
   "execution_count": 86,
   "id": "4ec14c08",
   "metadata": {},
   "outputs": [],
   "source": [
    "modellasso = Lasso() \n",
    "modellasso.fit(x_train, y_train) \n",
    "y_predict= modellasso.predict(x_test) "
   ]
  },
  {
   "cell_type": "code",
   "execution_count": 87,
   "id": "798e85bc",
   "metadata": {},
   "outputs": [
    {
     "data": {
      "text/plain": [
       "65.16080520909212"
      ]
     },
     "execution_count": 87,
     "metadata": {},
     "output_type": "execute_result"
    }
   ],
   "source": [
    "metrics.mean_absolute_error(y_predict,y_test)"
   ]
  },
  {
   "cell_type": "code",
   "execution_count": 88,
   "id": "f44e9b34",
   "metadata": {},
   "outputs": [
    {
     "data": {
      "text/plain": [
       "0.1298817762301462"
      ]
     },
     "execution_count": 88,
     "metadata": {},
     "output_type": "execute_result"
    }
   ],
   "source": [
    "metrics.mean_absolute_percentage_error(y_predict,y_test)"
   ]
  },
  {
   "cell_type": "markdown",
   "id": "fe03dc1e",
   "metadata": {},
   "source": [
    "### elasticnet"
   ]
  },
  {
   "cell_type": "code",
   "execution_count": 94,
   "id": "240e5af7",
   "metadata": {},
   "outputs": [
    {
     "data": {
      "text/plain": [
       "ElasticNet()"
      ]
     },
     "execution_count": 94,
     "metadata": {},
     "output_type": "execute_result"
    }
   ],
   "source": [
    "e_net = ElasticNet() \n",
    "e_net.fit(x_train, y_train) "
   ]
  },
  {
   "cell_type": "code",
   "execution_count": 95,
   "id": "12c7377f",
   "metadata": {},
   "outputs": [],
   "source": [
    "pred_y=e_net.predict(x_test)"
   ]
  },
  {
   "cell_type": "code",
   "execution_count": 96,
   "id": "3d53b77f",
   "metadata": {},
   "outputs": [
    {
     "data": {
      "text/plain": [
       "64.93695045689762"
      ]
     },
     "execution_count": 96,
     "metadata": {},
     "output_type": "execute_result"
    }
   ],
   "source": [
    "metrics.mean_absolute_error(pred_y,y_test)"
   ]
  },
  {
   "cell_type": "code",
   "execution_count": 97,
   "id": "fd8428bc",
   "metadata": {},
   "outputs": [
    {
     "data": {
      "text/plain": [
       "0.12942863460155363"
      ]
     },
     "execution_count": 97,
     "metadata": {},
     "output_type": "execute_result"
    }
   ],
   "source": [
    "metrics.mean_absolute_percentage_error(pred_y,y_test)"
   ]
  },
  {
   "cell_type": "code",
   "execution_count": null,
   "id": "a510faab",
   "metadata": {},
   "outputs": [],
   "source": []
  }
 ],
 "metadata": {
  "kernelspec": {
   "display_name": "Python 3",
   "language": "python",
   "name": "python3"
  },
  "language_info": {
   "codemirror_mode": {
    "name": "ipython",
    "version": 3
   },
   "file_extension": ".py",
   "mimetype": "text/x-python",
   "name": "python",
   "nbconvert_exporter": "python",
   "pygments_lexer": "ipython3",
   "version": "3.8.8"
  }
 },
 "nbformat": 4,
 "nbformat_minor": 5
}
